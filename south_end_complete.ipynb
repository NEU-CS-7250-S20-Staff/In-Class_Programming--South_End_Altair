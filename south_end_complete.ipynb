{
 "cells": [
  {
   "cell_type": "markdown",
   "metadata": {},
   "source": [
    "# Background\n",
    "\n",
    "The census tract for the South End begins just on the SE side of Columbus Avenue, as shown in this map:\n",
    "\n",
    "![Map of the South End](south_end.png)\n",
    "\n",
    "Let's explore the demographics of the South End."
   ]
  },
  {
   "cell_type": "markdown",
   "metadata": {},
   "source": [
    "# Setup"
   ]
  },
  {
   "cell_type": "code",
   "execution_count": null,
   "metadata": {},
   "outputs": [],
   "source": [
    "import pandas as pd\n",
    "import altair as alt\n",
    "from altair import datum"
   ]
  },
  {
   "cell_type": "markdown",
   "metadata": {},
   "source": [
    "# Loading Data"
   ]
  },
  {
   "cell_type": "code",
   "execution_count": null,
   "metadata": {},
   "outputs": [],
   "source": [
    "df = pd.read_csv('south_end.csv')\n",
    "df"
   ]
  },
  {
   "cell_type": "code",
   "execution_count": null,
   "metadata": {},
   "outputs": [],
   "source": [
    "df[['Category','Subcategory']]"
   ]
  },
  {
   "cell_type": "code",
   "execution_count": null,
   "metadata": {},
   "outputs": [],
   "source": [
    "df[['Category','Subcategory']].drop_duplicates()"
   ]
  },
  {
   "cell_type": "markdown",
   "metadata": {},
   "source": [
    "# Creating Visualizations"
   ]
  },
  {
   "cell_type": "markdown",
   "metadata": {},
   "source": [
    "## Age Distribution by Decade"
   ]
  },
  {
   "cell_type": "code",
   "execution_count": null,
   "metadata": {},
   "outputs": [],
   "source": [
    "alt.Chart(df).mark_bar().encode(\n",
    "    x='Decade:O',\n",
    ")"
   ]
  },
  {
   "cell_type": "code",
   "execution_count": null,
   "metadata": {},
   "outputs": [],
   "source": [
    "alt.Chart(df).mark_bar().encode(\n",
    "    x='Decade:O',\n",
    "    y='Count:Q'\n",
    ")"
   ]
  },
  {
   "cell_type": "code",
   "execution_count": null,
   "metadata": {},
   "outputs": [],
   "source": [
    "alt.Chart(df).mark_bar().encode(\n",
    "    x='Decade:O',\n",
    "    y='Count:Q',\n",
    "    color='Subcategory:N'\n",
    ").transform_filter(\n",
    "    (datum.Category == 'Age')\n",
    ")"
   ]
  },
  {
   "cell_type": "code",
   "execution_count": null,
   "metadata": {},
   "outputs": [],
   "source": [
    "alt.Chart(df).mark_bar().encode(\n",
    "    x='Decade:O',\n",
    "    y='Count:Q',\n",
    "    color=alt.Color('Subcategory', title='Age Range'),\n",
    ").transform_filter(\n",
    "    (datum.Category == 'Age')\n",
    ").properties(\n",
    "    title='Age Distribution by Decade'\n",
    ")"
   ]
  },
  {
   "cell_type": "code",
   "execution_count": null,
   "metadata": {},
   "outputs": [],
   "source": [
    "alt.Chart(df).mark_bar().encode(\n",
    "    x='Decade:O',\n",
    "    y='Count:Q',\n",
    "    color=alt.Color('Subcategory:N', title='Age Range', sort='descending'),\n",
    "    order=alt.Order(\n",
    "        'Subcategory:N',\n",
    "        sort='ascending'\n",
    "    )\n",
    ").transform_filter(\n",
    "    (datum.Category == 'Age')\n",
    ").properties(\n",
    "    title='Age Distribution by Decade'\n",
    ")"
   ]
  },
  {
   "cell_type": "code",
   "execution_count": null,
   "metadata": {},
   "outputs": [],
   "source": [
    "alt.Chart(df).mark_line().encode(\n",
    "    x='Decade:O',\n",
    "    y='Count:Q',\n",
    "    color=alt.Color('Subcategory:N', title='Age Range', sort='descending'),\n",
    "    order=alt.Order(\n",
    "        'Subcategory:N',\n",
    "        sort='ascending'\n",
    "    )\n",
    ").transform_filter(\n",
    "    (datum.Category == 'Age')\n",
    ").properties(\n",
    "    title='Age Distribution by Decade'\n",
    ")"
   ]
  },
  {
   "cell_type": "code",
   "execution_count": null,
   "metadata": {},
   "outputs": [],
   "source": [
    "alt.Chart(df).mark_area().encode(\n",
    "    x='Decade:O',\n",
    "    y='Count:Q',\n",
    "    color=alt.Color('Subcategory:N', title='Age Range', sort='descending'),\n",
    "    order=alt.Order(\n",
    "        'Subcategory:N',\n",
    "        sort='ascending'\n",
    "    )\n",
    ").transform_filter(\n",
    "    (datum.Category == 'Age')\n",
    ").properties(\n",
    "    title='Age Distribution by Decade'\n",
    ")"
   ]
  },
  {
   "cell_type": "markdown",
   "metadata": {},
   "source": [
    "## Educational Attainment by Decade"
   ]
  },
  {
   "cell_type": "code",
   "execution_count": null,
   "metadata": {},
   "outputs": [],
   "source": [
    "eduField = 'Educational Attainment (age 25+)'"
   ]
  },
  {
   "cell_type": "code",
   "execution_count": null,
   "metadata": {},
   "outputs": [],
   "source": [
    "\n",
    "alt.Chart(df).mark_bar().encode(\n",
    "    x='Decade:O',\n",
    "    y='Count:Q',\n",
    "    color=alt.Color('Subcategory:N', title=eduField, sort='descending'),\n",
    ").transform_filter(\n",
    "    (datum.Category == eduField)\n",
    ").properties(\n",
    "    title='Educational Attainment Distribution by Decade'\n",
    ")"
   ]
  },
  {
   "cell_type": "code",
   "execution_count": null,
   "metadata": {},
   "outputs": [],
   "source": [
    "eduSortOrder = [\n",
    "        \"Bachelor's Degree or Higher\",\n",
    "        \"Some College or Associate's Degree\",\n",
    "        'High School or GED',\n",
    "        'less than High School'\n",
    "        ]"
   ]
  },
  {
   "cell_type": "code",
   "execution_count": null,
   "metadata": {},
   "outputs": [],
   "source": [
    "alt.Chart(df).mark_bar().encode(\n",
    "    x='Decade:O',\n",
    "    y='Count:Q',\n",
    "    color=alt.Color('Subcategory:N', title=eduField, sort=eduSortOrder),\n",
    ").transform_filter(\n",
    "    (datum.Category == eduField)\n",
    ").properties(\n",
    "    title='Educational Attainment Distribution by Decade'\n",
    ")"
   ]
  },
  {
   "cell_type": "code",
   "execution_count": null,
   "metadata": {},
   "outputs": [],
   "source": [
    "alt.Chart(df).mark_bar().encode(\n",
    "    x='Decade:O',\n",
    "    y='Count:Q',\n",
    "    color=alt.Color('Subcategory:N', title=eduField, sort=eduSortOrder),\n",
    "    column=alt.Column('Subcategory:N', title=eduField)\n",
    ").transform_filter(\n",
    "    (datum.Category == eduField)\n",
    ").properties(\n",
    "    title='Educational Attainment Distribution by Decade'\n",
    ")"
   ]
  },
  {
   "cell_type": "code",
   "execution_count": null,
   "metadata": {},
   "outputs": [],
   "source": [
    "alt.Chart(df).mark_bar().encode(\n",
    "    x='Decade:O',\n",
    "    y='Count:Q',\n",
    "    color=alt.Color('Subcategory:N', title=eduField, sort=eduSortOrder),\n",
    "    column=alt.Column('Subcategory:N', title=eduField, sort=eduSortOrder[::-1]),\n",
    ").transform_filter(\n",
    "    (datum.Category == eduField)\n",
    ").properties(\n",
    "    title='Educational Attainment Distribution by Decade'\n",
    ")"
   ]
  },
  {
   "cell_type": "markdown",
   "metadata": {},
   "source": [
    "## Race by Decade"
   ]
  },
  {
   "cell_type": "code",
   "execution_count": null,
   "metadata": {},
   "outputs": [],
   "source": [
    "alt.Chart(df).mark_bar().encode(\n",
    "    x='Decade:O',\n",
    "    y='Count:Q',\n",
    "    color=alt.Color('Subcategory:N', title='Race')\n",
    ").transform_filter(\n",
    "    (datum.Category == 'Race/ Ethnicity')\n",
    ").properties(\n",
    "    title='Race Distribution by Decade'\n",
    ")"
   ]
  },
  {
   "cell_type": "code",
   "execution_count": null,
   "metadata": {},
   "outputs": [],
   "source": [
    "chart_race = alt.Chart(df).mark_bar().encode(\n",
    "    x='Decade:O',\n",
    "    y=alt.Y('Count:Q', stack='normalize', title='Demographic Split'),\n",
    "    color=alt.Color('Subcategory:N', title='Race')\n",
    ").transform_filter(\n",
    "    (datum.Category == 'Race/ Ethnicity')\n",
    ").properties(\n",
    "    title='Race Distribution by Decade'\n",
    ")"
   ]
  },
  {
   "cell_type": "markdown",
   "metadata": {},
   "source": [
    "## Types of Occupancy by Decade"
   ]
  },
  {
   "cell_type": "code",
   "execution_count": null,
   "metadata": {},
   "outputs": [],
   "source": [
    "alt.Chart(df).mark_bar().encode(\n",
    "    x='Decade:O',\n",
    "    y=alt.Y('Count:Q', stack='normalize', title='Occupancy Split'),\n",
    "    color=alt.Color('Subcategory:N', title='Type of Occupancy')\n",
    ").transform_filter(\n",
    "    (datum.Category == 'Housing Tenure') & \n",
    "    (datum.Subcategory != 'Occupied Housing Units')\n",
    ").properties(\n",
    "    title='Types of Occupancy Distribution by Decade'\n",
    ")"
   ]
  },
  {
   "cell_type": "markdown",
   "metadata": {},
   "source": [
    "# Saving Your Results"
   ]
  },
  {
   "cell_type": "code",
   "execution_count": null,
   "metadata": {},
   "outputs": [],
   "source": [
    "chart_occupancy = alt.Chart(df).mark_bar().encode(\n",
    "    x='Decade:O',\n",
    "    y=alt.Y('Count:Q', stack='normalize', title='Occupancy Split'),\n",
    "    color=alt.Color('Subcategory:N', title='Type of Occupancy')\n",
    ").transform_filter(\n",
    "    (datum.Category == 'Housing Tenure') & \n",
    "    (datum.Subcategory != 'Occupied Housing Units')\n",
    ").properties(\n",
    "    title='Types of Occupancy Distribution by Decade'\n",
    ")\n",
    "chart_occupancy"
   ]
  },
  {
   "cell_type": "markdown",
   "metadata": {},
   "source": [
    "## Saving to a web page..."
   ]
  },
  {
   "cell_type": "code",
   "execution_count": null,
   "metadata": {},
   "outputs": [],
   "source": [
    "chart_occupancy.save('chart_occupancy.html', embed_options={'renderer':'svg'})"
   ]
  },
  {
   "cell_type": "markdown",
   "metadata": {},
   "source": [
    "## Saving an SVG, PNG, Vega Editor..."
   ]
  },
  {
   "cell_type": "markdown",
   "metadata": {},
   "source": [
    "Here is an example infographic you could create by exporting an SVG and editing in Illustrator:\n",
    "\n",
    "![South End Occupancy Infographic](south_end_occupancy_infographic.png)\n",
    "\n",
    "In Illustrator:\n",
    "* Open the SVG.\n",
    "* Use the magic wand tool to select the owner series & the legend.\n",
    "* Edit->Edit Colors->Saturate and reduce saturation.\n",
    "* Add the `apartment_building.svg` and scale to ~20%"
   ]
  },
  {
   "cell_type": "code",
   "execution_count": null,
   "metadata": {},
   "outputs": [],
   "source": []
  }
 ],
 "metadata": {
  "language_info": {
   "name": "python",
   "pygments_lexer": "ipython3"
  }
 },
 "nbformat": 4,
 "nbformat_minor": 4
}
